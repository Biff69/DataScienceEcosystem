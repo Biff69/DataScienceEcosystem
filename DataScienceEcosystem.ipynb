{
 "cells": [
  {
   "cell_type": "markdown",
   "metadata": {},
   "source": [
    "<center>\n",
    "    <img src=\"https://cf-courses-data.s3.us.cloud-object-storage.appdomain.cloud/IBMDeveloperSkillsNetwork-DS0105EN-SkillsNetwork/labs/Module2/images/SN_web_lightmode.png\" width=\"300\" alt=\"cognitiveclass.ai logo\">\n",
    "</center>\n"
   ]
  },
  {
   "cell_type": "markdown",
   "metadata": {
    "tags": []
   },
   "source": [
    " # Data Science Tools and Ecosystem"
   ]
  },
  {
   "cell_type": "markdown",
   "metadata": {},
   "source": [
    "In this notebook, I will provide an overview of Data Science Tools and Ecosystem."
   ]
  },
  {
   "cell_type": "markdown",
   "metadata": {},
   "source": [
    "In this notebook, Data Science Tools and Ecosystem are summarized."
   ]
  },
  {
   "cell_type": "markdown",
   "metadata": {},
   "source": [
    "**Objectives:**\n",
    "\n",
    "- List popular languages for Data Science.\n",
    "- Introduce common Data Science libraries and tools.\n",
    "- Understand the basics of arithmetic expressions in Python.\n",
    "- Discuss the importance of Data Asset Management in Data Science.\n",
    "- Introduce Jupyter Notebooks and their features.\n",
    "- Understand the basics of IBM Watson Studio and its components."
   ]
  },
  {
   "cell_type": "markdown",
   "metadata": {},
   "source": [
    "Some of the popular languages that Data Scientists use are:\n",
    "\n",
    "1. Python - A general-purpose programming language that is widely used in data science, machine learning, and other fields.\n",
    "2. R - A programming language and environment for statistical computing and graphics.\n",
    "3. SQL - A language used to manage and analyze data stored in relational databases."
   ]
  },
  {
   "cell_type": "markdown",
   "metadata": {},
   "source": [
    "Some of the commonly used libraries used by Data Scientists include:\n",
    "\n",
    "1. NumPy: NumPy is a fundamental library for scientific computing in Python, which provides support for arrays and matrices, along with a vast collection of mathematical functions for performing complex mathematical operations.\n",
    "2. Pandas: Pandas is a library that provides easy-to-use data structures and data analysis tools for manipulating and analyzing large datasets. It is widely used for data cleaning, data preparation, and data exploration tasks.\n",
    "3. Matplotlib: Matplotlib is a popular visualization library that provides a wide variety of customizable graphs and charts for data visualization. It is an essential tool for creating static, animated, and interactive visualizations in Python.\n",
    "4. Scikit-learn: Scikit-learn is a powerful machine learning library that provides various algorithms and tools for supervised and unsupervised learning. It includes functions for classification, regression, clustering, dimensionality reduction, and model selection and evaluation.\n",
    "5. TensorFlow: TensorFlow is an open-source machine learning framework that is widely used for building deep learning models. It provides a comprehensive set of tools and APIs for creating and training neural networks and deploying them on various platforms."
   ]
  },
  {
   "cell_type": "markdown",
   "metadata": {},
   "source": [
    "| Data Science Tools |\n",
    "|---------------|\n",
    "| Jupyter Notebook         |\n",
    "| RStudio         |\n",
    "| Spyder         |\n",
    "\n",
    "Above is a table that shows three popular open-source development environment tools used in data science.\n",
    "\n",
    "Jupyter Notebook: Jupyter Notebook is an open-source web application that allows data scientists to create and share documents that contain live code, equations, visualizations, and narrative text. It is widely used for data cleaning, statistical modeling, data visualization, and machine learning.\n",
    "RStudio: RStudio is an integrated development environment (IDE) for the R programming language, which is widely used for statistical computing and graphics. RStudio provides a user-friendly interface, code editing and debugging tools, and support for creating interactive visualizations and reports.\n",
    "Spyder: Spyder is an open-source IDE for scientific programming in Python, which provides a powerful interactive development environment for data analysis, numerical computing, and scientific computing. Spyder offers features like code completion, debugging, and variable exploration, along with support for creating plots and visualizations.\n"
   ]
  },
  {
   "cell_type": "markdown",
   "metadata": {},
   "source": [
    "### Below are a few examples of evaluating arithmetic expressions in Python.\n",
    "In this cell, we will provide some examples of basic arithmetic operations in Python, which are used widely in data science and other fields of computer science. These examples will demonstrate how to perform addition, subtraction, multiplication, division, and exponentiation in Python using arithmetic operators.\n",
    "\n",
    "Python provides several arithmetic operators for performing these operations. These operators include the plus sign (+) for addition, the minus sign (-) for subtraction, the asterisk (*) for multiplication, the forward slash (/) for division, and the double asterisk (**) for exponentiation. By using these operators, we can perform various arithmetic operations in Python, as we will see in the following examples."
   ]
  },
  {
   "cell_type": "code",
   "execution_count": 2,
   "metadata": {
    "tags": []
   },
   "outputs": [
    {
     "name": "stdout",
     "output_type": "stream",
     "text": [
      "17\n"
     ]
    }
   ],
   "source": [
    "# This is a simple arithmetic expression to multiply then add integers.\n",
    "result = (3 * 4) + 5\n",
    "print(result)\n"
   ]
  },
  {
   "cell_type": "code",
   "execution_count": 4,
   "metadata": {},
   "outputs": [
    {
     "data": {
      "text/plain": [
       "3.3333333333333335"
      ]
     },
     "execution_count": 4,
     "metadata": {},
     "output_type": "execute_result"
    }
   ],
   "source": [
    "# This will convert 200 minutes to hours by dividing by 60.\n",
    "200 / 60"
   ]
  },
  {
   "cell_type": "markdown",
   "metadata": {},
   "source": [
    "## Author\n",
    "\n",
    "Joshua Byrne"
   ]
  },
  {
   "cell_type": "code",
   "execution_count": null,
   "metadata": {},
   "outputs": [],
   "source": []
  }
 ],
 "metadata": {
  "kernelspec": {
   "display_name": "Python",
   "language": "python",
   "name": "conda-env-python-py"
  },
  "language_info": {
   "codemirror_mode": {
    "name": "ipython",
    "version": 3
   },
   "file_extension": ".py",
   "mimetype": "text/x-python",
   "name": "python",
   "nbconvert_exporter": "python",
   "pygments_lexer": "ipython3",
   "version": "3.7.12"
  }
 },
 "nbformat": 4,
 "nbformat_minor": 4
}
